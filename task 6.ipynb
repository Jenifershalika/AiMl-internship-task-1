{
 "cells": [
  {
   "cell_type": "code",
   "execution_count": null,
   "id": "ab8e127f-acdc-4d5c-be2a-2cb268d39798",
   "metadata": {},
   "outputs": [],
   "source": []
  }
 ],
 "metadata": {
  "kernelspec": {
   "display_name": "",
   "name": ""
  },
  "language_info": {
   "name": ""
  }
 },
 "nbformat": 4,
 "nbformat_minor": 5
}
